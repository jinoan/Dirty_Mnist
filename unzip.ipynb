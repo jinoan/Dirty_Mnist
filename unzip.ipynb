{
  "nbformat": 4,
  "nbformat_minor": 0,
  "metadata": {
    "colab": {
      "name": "unzip.ipynb",
      "provenance": [],
      "collapsed_sections": [],
      "authorship_tag": "ABX9TyOsLEzQzoQiKslwgN5Sug2G",
      "include_colab_link": true
    },
    "kernelspec": {
      "name": "python3",
      "display_name": "Python 3"
    }
  },
  "cells": [
    {
      "cell_type": "markdown",
      "metadata": {
        "id": "view-in-github",
        "colab_type": "text"
      },
      "source": [
        "<a href=\"https://colab.research.google.com/github/jinoan/Dirty_Mnist/blob/master/unzip.ipynb\" target=\"_parent\"><img src=\"https://colab.research.google.com/assets/colab-badge.svg\" alt=\"Open In Colab\"/></a>"
      ]
    },
    {
      "cell_type": "code",
      "metadata": {
        "id": "6HgVx8Ap3rdd"
      },
      "source": [
        "from google.colab import auth\n",
        "auth.authenticate_user()"
      ],
      "execution_count": 4,
      "outputs": []
    },
    {
      "cell_type": "code",
      "metadata": {
        "id": "fY5oFZjQ2wkv"
      },
      "source": [
        "from google.cloud import storage\n",
        "from zipfile import ZipFile\n",
        "from zipfile import is_zipfile\n",
        "import io"
      ],
      "execution_count": 1,
      "outputs": []
    },
    {
      "cell_type": "code",
      "metadata": {
        "id": "Oyk3bvYy4zb2"
      },
      "source": [
        "import os\n",
        "os.environ[\"GCLOUD_PROJECT\"] = \"dirty-mnist\""
      ],
      "execution_count": 6,
      "outputs": []
    },
    {
      "cell_type": "code",
      "metadata": {
        "id": "KJahqzbU26tz"
      },
      "source": [
        "def zipextract(bucketname, zipfilename_with_path):\n",
        "\n",
        "    storage_client = storage.Client()\n",
        "    bucket = storage_client.get_bucket(bucketname)\n",
        "\n",
        "    destination_blob_pathname = zipfilename_with_path\n",
        "\n",
        "    blob = bucket.blob(destination_blob_pathname)\n",
        "    zipbytes = io.BytesIO(blob.download_as_string())\n",
        "\n",
        "    if is_zipfile(zipbytes):\n",
        "        with ZipFile(zipbytes, 'r') as myzip:\n",
        "            for contentfilename in myzip.namelist():\n",
        "                contentfile = myzip.read(contentfilename)\n",
        "                blob = bucket.blob(zipfilename_with_path + \"/\" + contentfilename)\n",
        "                blob.upload_from_string(contentfile)\n",
        "                "
      ],
      "execution_count": 7,
      "outputs": []
    },
    {
      "cell_type": "code",
      "metadata": {
        "id": "AVXEAlHw2_SV"
      },
      "source": [
        "zipextract(\"dirty-mnist\", \"data/dirty_mnist_2nd.zip\") # if the file is gs://mybucket/path/file.zip"
      ],
      "execution_count": 8,
      "outputs": []
    },
    {
      "cell_type": "code",
      "metadata": {
        "id": "R8NRni_l47-B"
      },
      "source": [
        "zipextract(\"dirty-mnist\", \"data/mnist_data.zip\")"
      ],
      "execution_count": 9,
      "outputs": []
    },
    {
      "cell_type": "code",
      "metadata": {
        "id": "qbe_fwEbmVlU"
      },
      "source": [
        "zipextract(\"dirty-mnist\", \"data/test_dirty_mnist_2nd.zip\")"
      ],
      "execution_count": 10,
      "outputs": []
    },
    {
      "cell_type": "code",
      "metadata": {
        "id": "GvrJK9fDmbCR"
      },
      "source": [
        ""
      ],
      "execution_count": null,
      "outputs": []
    }
  ]
}