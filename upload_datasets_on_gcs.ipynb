{
  "nbformat": 4,
  "nbformat_minor": 0,
  "metadata": {
    "colab": {
      "name": "upload_datasets_on_gcs.ipynb",
      "provenance": [],
      "collapsed_sections": [],
      "machine_shape": "hm"
    },
    "kernelspec": {
      "display_name": "Python 3",
      "name": "python3"
    }
  },
  "cells": [
    {
      "cell_type": "code",
      "metadata": {
        "id": "CNkPYvGwqWdN",
        "colab": {
          "base_uri": "https://localhost:8080/"
        },
        "outputId": "1765ba57-c0c6-48ca-b8d9-36fea65c28e0"
      },
      "source": [
        "from google.colab import auth\n",
        "auth.authenticate_user()\n",
        "\n",
        "# 구글 드라이브 mount \n",
        "from google.colab import drive\n",
        "drive.mount('/content/drive')"
      ],
      "execution_count": null,
      "outputs": [
        {
          "output_type": "stream",
          "text": [
            "Mounted at /content/drive\n"
          ],
          "name": "stdout"
        }
      ]
    },
    {
      "cell_type": "code",
      "metadata": {
        "id": "wMzeLgDVR-7M"
      },
      "source": [
        "!curl https://sdk.cloud.google.com | bash  # gcloud 다운로드"
      ],
      "execution_count": null,
      "outputs": []
    },
    {
      "cell_type": "code",
      "metadata": {
        "id": "u_njknHVSQzN"
      },
      "source": [
        "!gcloud init  # colab에 gcs 연결"
      ],
      "execution_count": null,
      "outputs": []
    },
    {
      "cell_type": "code",
      "metadata": {
        "id": "M6uj8FdtUUPN"
      },
      "source": [
        "cd drive/My Drive/Colab Notebooks/dirty_mnist/  # 저장할 파일 및 폴더가 있는 경로로 이동"
      ],
      "execution_count": null,
      "outputs": []
    },
    {
      "cell_type": "code",
      "metadata": {
        "id": "DyD_unUMTxg2"
      },
      "source": [
        "!gsutil -m cp -r ./data gs://dirty-mnist/  # google drive의 dirty_mnist 안에 있는 data 폴더를 gcs의 dirty-mnist 버킷에 복사"
      ],
      "execution_count": null,
      "outputs": []
    },
    {
      "cell_type": "code",
      "execution_count": null,
      "metadata": {},
      "outputs": [],
      "source": [
        "!gsutil -m cp -r gs://dirty-mnist/data/* .  # 반대로 gcs의 dirty-mnist 버킷에 있는 data 폴더 내의 파일을 google drive에 복사"
      ]
    }
  ]
}